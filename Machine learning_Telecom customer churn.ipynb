{
 "cells": [
  {
   "cell_type": "code",
   "execution_count": 24,
   "id": "d8de5943",
   "metadata": {},
   "outputs": [],
   "source": [
    "# Import required packages\n",
    "import pandas as pd\n",
    "from sklearn.preprocessing import StandardScaler, OneHotEncoder \n",
    "from sklearn.model_selection import train_test_split\n",
    "from sklearn.preprocessing import StandardScaler\n",
    "from sklearn.linear_model import LogisticRegression\n",
    "from sklearn.ensemble import RandomForestClassifier\n",
    "from sklearn.metrics import classification_report, confusion_matrix"
   ]
  },
  {
   "cell_type": "code",
   "execution_count": 25,
   "id": "0ae66168",
   "metadata": {},
   "outputs": [],
   "source": [
    "# Load and explore datasets\n",
    "demo_df = pd.read_csv('telecom_demographics.csv')\n",
    "usage_df = pd.read_csv('telecom_usage.csv')"
   ]
  },
  {
   "cell_type": "code",
   "execution_count": 26,
   "id": "befd5524",
   "metadata": {},
   "outputs": [
    {
     "data": {
      "text/html": [
       "<div>\n",
       "<style scoped>\n",
       "    .dataframe tbody tr th:only-of-type {\n",
       "        vertical-align: middle;\n",
       "    }\n",
       "\n",
       "    .dataframe tbody tr th {\n",
       "        vertical-align: top;\n",
       "    }\n",
       "\n",
       "    .dataframe thead th {\n",
       "        text-align: right;\n",
       "    }\n",
       "</style>\n",
       "<table border=\"1\" class=\"dataframe\">\n",
       "  <thead>\n",
       "    <tr style=\"text-align: right;\">\n",
       "      <th></th>\n",
       "      <th>customer_id</th>\n",
       "      <th>telecom_partner</th>\n",
       "      <th>gender</th>\n",
       "      <th>age</th>\n",
       "      <th>state</th>\n",
       "      <th>city</th>\n",
       "      <th>pincode</th>\n",
       "      <th>registration_event</th>\n",
       "      <th>num_dependents</th>\n",
       "      <th>estimated_salary</th>\n",
       "    </tr>\n",
       "  </thead>\n",
       "  <tbody>\n",
       "    <tr>\n",
       "      <th>0</th>\n",
       "      <td>15169</td>\n",
       "      <td>Airtel</td>\n",
       "      <td>F</td>\n",
       "      <td>26</td>\n",
       "      <td>Himachal Pradesh</td>\n",
       "      <td>Delhi</td>\n",
       "      <td>667173</td>\n",
       "      <td>2020-03-16</td>\n",
       "      <td>4</td>\n",
       "      <td>85979</td>\n",
       "    </tr>\n",
       "    <tr>\n",
       "      <th>1</th>\n",
       "      <td>149207</td>\n",
       "      <td>Airtel</td>\n",
       "      <td>F</td>\n",
       "      <td>74</td>\n",
       "      <td>Uttarakhand</td>\n",
       "      <td>Hyderabad</td>\n",
       "      <td>313997</td>\n",
       "      <td>2022-01-16</td>\n",
       "      <td>0</td>\n",
       "      <td>69445</td>\n",
       "    </tr>\n",
       "    <tr>\n",
       "      <th>2</th>\n",
       "      <td>148119</td>\n",
       "      <td>Airtel</td>\n",
       "      <td>F</td>\n",
       "      <td>54</td>\n",
       "      <td>Jharkhand</td>\n",
       "      <td>Chennai</td>\n",
       "      <td>549925</td>\n",
       "      <td>2022-01-11</td>\n",
       "      <td>2</td>\n",
       "      <td>75949</td>\n",
       "    </tr>\n",
       "    <tr>\n",
       "      <th>3</th>\n",
       "      <td>187288</td>\n",
       "      <td>Reliance Jio</td>\n",
       "      <td>M</td>\n",
       "      <td>29</td>\n",
       "      <td>Bihar</td>\n",
       "      <td>Hyderabad</td>\n",
       "      <td>230636</td>\n",
       "      <td>2022-07-26</td>\n",
       "      <td>3</td>\n",
       "      <td>34272</td>\n",
       "    </tr>\n",
       "    <tr>\n",
       "      <th>4</th>\n",
       "      <td>14016</td>\n",
       "      <td>Vodafone</td>\n",
       "      <td>M</td>\n",
       "      <td>45</td>\n",
       "      <td>Nagaland</td>\n",
       "      <td>Bangalore</td>\n",
       "      <td>188036</td>\n",
       "      <td>2020-03-11</td>\n",
       "      <td>4</td>\n",
       "      <td>34157</td>\n",
       "    </tr>\n",
       "  </tbody>\n",
       "</table>\n",
       "</div>"
      ],
      "text/plain": [
       "   customer_id telecom_partner gender  age             state       city  \\\n",
       "0        15169          Airtel      F   26  Himachal Pradesh      Delhi   \n",
       "1       149207          Airtel      F   74       Uttarakhand  Hyderabad   \n",
       "2       148119          Airtel      F   54         Jharkhand    Chennai   \n",
       "3       187288    Reliance Jio      M   29             Bihar  Hyderabad   \n",
       "4        14016        Vodafone      M   45          Nagaland  Bangalore   \n",
       "\n",
       "   pincode registration_event  num_dependents  estimated_salary  \n",
       "0   667173         2020-03-16               4             85979  \n",
       "1   313997         2022-01-16               0             69445  \n",
       "2   549925         2022-01-11               2             75949  \n",
       "3   230636         2022-07-26               3             34272  \n",
       "4   188036         2020-03-11               4             34157  "
      ]
     },
     "execution_count": 26,
     "metadata": {},
     "output_type": "execute_result"
    }
   ],
   "source": [
    "demo_df.head()"
   ]
  },
  {
   "cell_type": "code",
   "execution_count": 27,
   "id": "1f756f63",
   "metadata": {},
   "outputs": [
    {
     "name": "stdout",
     "output_type": "stream",
     "text": [
      "<class 'pandas.core.frame.DataFrame'>\n",
      "RangeIndex: 6500 entries, 0 to 6499\n",
      "Data columns (total 10 columns):\n",
      " #   Column              Non-Null Count  Dtype \n",
      "---  ------              --------------  ----- \n",
      " 0   customer_id         6500 non-null   int64 \n",
      " 1   telecom_partner     6500 non-null   object\n",
      " 2   gender              6500 non-null   object\n",
      " 3   age                 6500 non-null   int64 \n",
      " 4   state               6500 non-null   object\n",
      " 5   city                6500 non-null   object\n",
      " 6   pincode             6500 non-null   int64 \n",
      " 7   registration_event  6500 non-null   object\n",
      " 8   num_dependents      6500 non-null   int64 \n",
      " 9   estimated_salary    6500 non-null   int64 \n",
      "dtypes: int64(5), object(5)\n",
      "memory usage: 507.9+ KB\n"
     ]
    }
   ],
   "source": [
    "demo_df.info()"
   ]
  },
  {
   "cell_type": "code",
   "execution_count": 28,
   "id": "6c3ca83a",
   "metadata": {},
   "outputs": [
    {
     "data": {
      "text/html": [
       "<div>\n",
       "<style scoped>\n",
       "    .dataframe tbody tr th:only-of-type {\n",
       "        vertical-align: middle;\n",
       "    }\n",
       "\n",
       "    .dataframe tbody tr th {\n",
       "        vertical-align: top;\n",
       "    }\n",
       "\n",
       "    .dataframe thead th {\n",
       "        text-align: right;\n",
       "    }\n",
       "</style>\n",
       "<table border=\"1\" class=\"dataframe\">\n",
       "  <thead>\n",
       "    <tr style=\"text-align: right;\">\n",
       "      <th></th>\n",
       "      <th>customer_id</th>\n",
       "      <th>calls_made</th>\n",
       "      <th>sms_sent</th>\n",
       "      <th>data_used</th>\n",
       "      <th>churn</th>\n",
       "    </tr>\n",
       "  </thead>\n",
       "  <tbody>\n",
       "    <tr>\n",
       "      <th>0</th>\n",
       "      <td>15169</td>\n",
       "      <td>75</td>\n",
       "      <td>21</td>\n",
       "      <td>4532</td>\n",
       "      <td>1</td>\n",
       "    </tr>\n",
       "    <tr>\n",
       "      <th>1</th>\n",
       "      <td>149207</td>\n",
       "      <td>35</td>\n",
       "      <td>38</td>\n",
       "      <td>723</td>\n",
       "      <td>1</td>\n",
       "    </tr>\n",
       "    <tr>\n",
       "      <th>2</th>\n",
       "      <td>148119</td>\n",
       "      <td>70</td>\n",
       "      <td>47</td>\n",
       "      <td>4688</td>\n",
       "      <td>1</td>\n",
       "    </tr>\n",
       "    <tr>\n",
       "      <th>3</th>\n",
       "      <td>187288</td>\n",
       "      <td>95</td>\n",
       "      <td>32</td>\n",
       "      <td>10241</td>\n",
       "      <td>1</td>\n",
       "    </tr>\n",
       "    <tr>\n",
       "      <th>4</th>\n",
       "      <td>14016</td>\n",
       "      <td>66</td>\n",
       "      <td>23</td>\n",
       "      <td>5246</td>\n",
       "      <td>1</td>\n",
       "    </tr>\n",
       "  </tbody>\n",
       "</table>\n",
       "</div>"
      ],
      "text/plain": [
       "   customer_id  calls_made  sms_sent  data_used  churn\n",
       "0        15169          75        21       4532      1\n",
       "1       149207          35        38        723      1\n",
       "2       148119          70        47       4688      1\n",
       "3       187288          95        32      10241      1\n",
       "4        14016          66        23       5246      1"
      ]
     },
     "execution_count": 28,
     "metadata": {},
     "output_type": "execute_result"
    }
   ],
   "source": [
    "usage_df.head()"
   ]
  },
  {
   "cell_type": "code",
   "execution_count": 29,
   "id": "8d5ec3e5",
   "metadata": {},
   "outputs": [
    {
     "name": "stdout",
     "output_type": "stream",
     "text": [
      "<class 'pandas.core.frame.DataFrame'>\n",
      "RangeIndex: 6500 entries, 0 to 6499\n",
      "Data columns (total 5 columns):\n",
      " #   Column       Non-Null Count  Dtype\n",
      "---  ------       --------------  -----\n",
      " 0   customer_id  6500 non-null   int64\n",
      " 1   calls_made   6500 non-null   int64\n",
      " 2   sms_sent     6500 non-null   int64\n",
      " 3   data_used    6500 non-null   int64\n",
      " 4   churn        6500 non-null   int64\n",
      "dtypes: int64(5)\n",
      "memory usage: 254.0 KB\n"
     ]
    }
   ],
   "source": [
    "usage_df.info()"
   ]
  },
  {
   "cell_type": "code",
   "execution_count": 30,
   "id": "254fc8c0",
   "metadata": {},
   "outputs": [],
   "source": [
    "# Merge datasets\n",
    "churn_df = demo_df.merge(usage_df, on='customer_id')"
   ]
  },
  {
   "cell_type": "code",
   "execution_count": 31,
   "id": "f1751ab1",
   "metadata": {},
   "outputs": [
    {
     "name": "stdout",
     "output_type": "stream",
     "text": [
      "The churn rate is 20.05%\n"
     ]
    }
   ],
   "source": [
    "# Calculate churn rate \n",
    "churn_rate = churn_df['churn'].value_counts()[1] / len(churn_df)\n",
    "print(f\"The churn rate is {churn_rate * 100:.2f}%\")"
   ]
  },
  {
   "cell_type": "code",
   "execution_count": 32,
   "id": "ccd803ea",
   "metadata": {},
   "outputs": [],
   "source": [
    "# Convert categorical variables into numerical variables with One Hot Encoding\n",
    "churn_df = pd.get_dummies(churn_df, columns=['telecom_partner', 'gender', 'state', 'city', 'registration_event'])"
   ]
  },
  {
   "cell_type": "code",
   "execution_count": 33,
   "id": "31be4ac9",
   "metadata": {},
   "outputs": [],
   "source": [
    "# Define features and target variable\n",
    "X = churn_df.drop([\"customer_id\",\"churn\"], axis=1)\n",
    "y = churn_df[\"churn\"]"
   ]
  },
  {
   "cell_type": "code",
   "execution_count": 34,
   "id": "a1c308a4",
   "metadata": {},
   "outputs": [],
   "source": [
    "# Split dataset into a train and test test\n",
    "X_train, X_test, y_train, y_test = train_test_split(X, y, test_size=0.2, random_state=42)"
   ]
  },
  {
   "cell_type": "code",
   "execution_count": 35,
   "id": "8c13ad00",
   "metadata": {},
   "outputs": [],
   "source": [
    "# Scale the data using a standard scaler\n",
    "scaler = StandardScaler()\n",
    "X_train_scaled = scaler.fit_transform(X_train)\n",
    "X_test_scaled = scaler.transform(X_test)"
   ]
  },
  {
   "cell_type": "code",
   "execution_count": 36,
   "id": "7b8c2796",
   "metadata": {},
   "outputs": [],
   "source": [
    "# Fit logistic regression model\n",
    "log_reg = LogisticRegression()\n",
    "log_reg.fit(X_train_scaled, y_train)\n",
    "y_pred = log_reg.predict(X_test_scaled)"
   ]
  },
  {
   "cell_type": "code",
   "execution_count": 37,
   "id": "57a02ce0",
   "metadata": {},
   "outputs": [
    {
     "name": "stdout",
     "output_type": "stream",
     "text": [
      "Confusion Matrix:\n",
      "[[920 107]\n",
      " [245  28]]\n",
      "Classification Report:\n",
      "              precision    recall  f1-score   support\n",
      "\n",
      "           0       0.79      0.90      0.84      1027\n",
      "           1       0.21      0.10      0.14       273\n",
      "\n",
      "    accuracy                           0.73      1300\n",
      "   macro avg       0.50      0.50      0.49      1300\n",
      "weighted avg       0.67      0.73      0.69      1300\n",
      "\n"
     ]
    }
   ],
   "source": [
    "# Print confusion matrix and classification report for the logistic regression model\n",
    "print(\"Confusion Matrix:\")\n",
    "print(confusion_matrix(y_test, y_pred))\n",
    "\n",
    "print(\"Classification Report:\")\n",
    "print(classification_report(y_test, y_pred))"
   ]
  },
  {
   "cell_type": "code",
   "execution_count": 39,
   "id": "9cd7be33",
   "metadata": {},
   "outputs": [],
   "source": [
    "# Fit random forest classifier model\n",
    "rf_clf = RandomForestClassifier()\n",
    "rf_clf.fit(X_train, y_train)\n",
    "y_pred = rf_clf.predict(X_test)"
   ]
  },
  {
   "cell_type": "code",
   "execution_count": 40,
   "id": "6fd1997f",
   "metadata": {},
   "outputs": [
    {
     "name": "stdout",
     "output_type": "stream",
     "text": [
      "Confusion Matrix:\n",
      "[[1024    3]\n",
      " [ 272    1]]\n",
      "Classification Report:\n",
      "              precision    recall  f1-score   support\n",
      "\n",
      "           0       0.79      1.00      0.88      1027\n",
      "           1       0.25      0.00      0.01       273\n",
      "\n",
      "    accuracy                           0.79      1300\n",
      "   macro avg       0.52      0.50      0.44      1300\n",
      "weighted avg       0.68      0.79      0.70      1300\n",
      "\n"
     ]
    }
   ],
   "source": [
    "# Print confusion matrix and classification report for the random forest classifier model\n",
    "print(\"Confusion Matrix:\")\n",
    "print(confusion_matrix(y_test, y_pred))\n",
    "\n",
    "print(\"Classification Report:\")\n",
    "print(classification_report(y_test, y_pred))"
   ]
  }
 ],
 "metadata": {
  "kernelspec": {
   "display_name": "Python 3 (ipykernel)",
   "language": "python",
   "name": "python3"
  },
  "language_info": {
   "codemirror_mode": {
    "name": "ipython",
    "version": 3
   },
   "file_extension": ".py",
   "mimetype": "text/x-python",
   "name": "python",
   "nbconvert_exporter": "python",
   "pygments_lexer": "ipython3",
   "version": "3.11.5"
  }
 },
 "nbformat": 4,
 "nbformat_minor": 5
}
